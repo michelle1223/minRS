{
 "cells": [
  {
   "cell_type": "code",
   "execution_count": 97,
   "metadata": {},
   "outputs": [],
   "source": [
    "import numpy as np\n",
    "import torch\n",
    "import torch.nn as nn\n",
    "import os\n",
    "import scipy.sparse\n",
    "import pandas as pd\n",
    "from tqdm import tqdm\n",
    "from random import *\n",
    "import copy\n",
    "import pickle"
   ]
  },
  {
   "cell_type": "code",
   "execution_count": 58,
   "metadata": {},
   "outputs": [],
   "source": [
    "data_root = os.environ['KakaoMelonArenaHome']"
   ]
  },
  {
   "cell_type": "code",
   "execution_count": 62,
   "metadata": {},
   "outputs": [],
   "source": [
    "def lil_to_tensor(lil_mtrx):\n",
    "    coo_mtrx = lil_mtrx.tocoo()\n",
    "    values = torch.FloatTensor(coo_mtrx.data)\n",
    "    indices = torch.LongTensor(np.vstack((coo_mtrx.row, coo_mtrx.col)))\n",
    "    shape = torch.Size(coo_mtrx.shape)\n",
    "\n",
    "    X = torch.sparse.FloatTensor(indices, values, shape)\n",
    "    return X"
   ]
  },
  {
   "cell_type": "code",
   "execution_count": 85,
   "metadata": {},
   "outputs": [],
   "source": [
    "class AutoEncoder(nn.Module):\n",
    "    def __init__(self):\n",
    "        super(AutoEncoder, self).__init__()\n",
    "        #self.encoder = nn.Sequential(nn.Linear(N_SONGS, 1))\n",
    "        #self.decoder = nn.Sequential(nn.Linear(1, N_SONGS))\n",
    "        self.encoder = nn.Sequential(nn.Linear(N_SONGS, 512), nn.Linear(512, 128), nn.Linear(128, 32))\n",
    "        self.decoder = nn.Sequential(nn.Linear(32, 128), nn.Linear(128, 512), nn.Linear(512, N_SONGS))\n",
    "        #self.encoder = nn.Sequential(nn.Linear(N_SONGS, 2048), nn.Linear(2048, 512), nn.Linear(512, 128), nn.Linear(128, 32))\n",
    "        #self.decoder = nn.Sequential(nn.Linear(32, 128), nn.Linear(128, 512), nn.Linear(512, 2048), nn.Linear(2048, N_SONGS))\n",
    "    \n",
    "    def forward(self, X):\n",
    "        out = self.encoder(X)\n",
    "        out = self.decoder(out)\n",
    "        return out"
   ]
  },
  {
   "cell_type": "code",
   "execution_count": 86,
   "metadata": {},
   "outputs": [],
   "source": [
    "def add_noise(lil_mtrx, p):\n",
    "    noised_mtrx = copy.deepcopy(lil_mtrx)\n",
    "    n = noised_mtrx.getnnz()\n",
    "    n_noises = int(n * p)\n",
    "    indexes = [randrange(n) for i in range(n_noises)]\n",
    "    rows, cols = noised_mtrx.nonzero()\n",
    "    for i in range(n_noises):\n",
    "        rand = randrange(n)\n",
    "        i, j = rows[rand], cols[rand]\n",
    "        noised_mtrx[i, j] = 0\n",
    "    return noised_mtrx\n",
    "    "
   ]
  },
  {
   "cell_type": "code",
   "execution_count": 94,
   "metadata": {},
   "outputs": [],
   "source": [
    "def train(lil_mtrx, batch_size, n_epoch, lr, save_path, load_epoch = 0):\n",
    "    model = AutoEncoder()\n",
    "    criterion = nn.MSELoss()\n",
    "    optimizer = torch.optim.Adam(model.parameters(), lr = lr)\n",
    "    \n",
    "    if(load_epoch != 0):\n",
    "        checkpoint = torch.load(save_path + '/' + str(load_epoch) + '.pth')\n",
    "        model.load_state_dict(checkpoint['model_state_dict'])\n",
    "        optimizer.load_state_dict(checkpoint['optimizer_state_dict'])\n",
    "    \n",
    "    n_plylsts, n_songs = lil_mtrx.shape\n",
    "    n_batches = int(np.ceil(n_plylsts / batch_size))\n",
    "    for epoch in range(load_epoch, n_epoch):\n",
    "        print('---------- train at epoch %d ----------'%epoch)\n",
    "        loss_sum = 0\n",
    "        for b in range(n_batches):\n",
    "            if b == n_batches - 1:\n",
    "                mtrx = lil_mtrx[b * batch_size :, :]\n",
    "                noised_mtrx = add_noise(mtrx, 0.2)\n",
    "                batch = lil_to_tensor(noised_mtrx)\n",
    "                gt = lil_to_tensor(mtrx)\n",
    "            else:\n",
    "                mtrx = lil_mtrx[b * batch_size : (b + 1) * batch_size, :]\n",
    "                noised_mtrx = add_noise(mtrx, 0.2)\n",
    "                batch = lil_to_tensor(noised_mtrx)\n",
    "                gt = lil_to_tensor(mtrx)\n",
    "            \n",
    "            optimizer.zero_grad()\n",
    "            pred = model(batch)\n",
    "            loss = criterion(pred, gt.to_dense())\n",
    "            loss.backward()\n",
    "            optimizer.step()\n",
    "            \n",
    "            print('batch %d / %d | loss: %.9f'%(b, n_batches, loss))\n",
    "            loss_sum += loss\n",
    "        print('*** loss avg at epoch %d: %.9f'%(epoch, loss_sum / n_batches))\n",
    "        torch.save({\n",
    "            'model_state_dict': model.state_dict(),\n",
    "            'optimizer_state_dict': optimizer.state_dict(),\n",
    "            }, save_path + '/' + str(epoch) + '.pth')\n"
   ]
  },
  {
   "cell_type": "code",
   "execution_count": 95,
   "metadata": {
    "scrolled": true
   },
   "outputs": [
    {
     "name": "stdout",
     "output_type": "stream",
     "text": [
      "---------- train at epoch 0 ----------\n",
      "batch 0 / 2877 | loss: 0.002772496\n"
     ]
    },
    {
     "ename": "KeyboardInterrupt",
     "evalue": "",
     "output_type": "error",
     "traceback": [
      "\u001b[1;31m---------------------------------------------------------------------------\u001b[0m",
      "\u001b[1;31mKeyboardInterrupt\u001b[0m                         Traceback (most recent call last)",
      "\u001b[1;32m<ipython-input-95-76971ff7f217>\u001b[0m in \u001b[0;36m<module>\u001b[1;34m\u001b[0m\n\u001b[0;32m      1\u001b[0m \u001b[0mSAVE_PATH\u001b[0m \u001b[1;33m=\u001b[0m \u001b[0mdata_root\u001b[0m \u001b[1;33m+\u001b[0m \u001b[1;34m'/resume'\u001b[0m\u001b[1;33m\u001b[0m\u001b[1;33m\u001b[0m\u001b[0m\n\u001b[1;32m----> 2\u001b[1;33m \u001b[0mtrain\u001b[0m\u001b[1;33m(\u001b[0m\u001b[0mlil_mtrx\u001b[0m\u001b[1;33m,\u001b[0m \u001b[1;36m32\u001b[0m\u001b[1;33m,\u001b[0m \u001b[1;36m100\u001b[0m\u001b[1;33m,\u001b[0m \u001b[1;36m0.02\u001b[0m\u001b[1;33m,\u001b[0m \u001b[0mSAVE_PATH\u001b[0m\u001b[1;33m)\u001b[0m\u001b[1;33m\u001b[0m\u001b[1;33m\u001b[0m\u001b[0m\n\u001b[0m",
      "\u001b[1;32m<ipython-input-94-4f933472a5b7>\u001b[0m in \u001b[0;36mtrain\u001b[1;34m(lil_mtrx, batch_size, n_epoch, lr, save_path, load_epoch)\u001b[0m\n\u001b[0;32m     30\u001b[0m             \u001b[0mloss\u001b[0m \u001b[1;33m=\u001b[0m \u001b[0mcriterion\u001b[0m\u001b[1;33m(\u001b[0m\u001b[0mpred\u001b[0m\u001b[1;33m,\u001b[0m \u001b[0mgt\u001b[0m\u001b[1;33m.\u001b[0m\u001b[0mto_dense\u001b[0m\u001b[1;33m(\u001b[0m\u001b[1;33m)\u001b[0m\u001b[1;33m)\u001b[0m\u001b[1;33m\u001b[0m\u001b[1;33m\u001b[0m\u001b[0m\n\u001b[0;32m     31\u001b[0m             \u001b[0mloss\u001b[0m\u001b[1;33m.\u001b[0m\u001b[0mbackward\u001b[0m\u001b[1;33m(\u001b[0m\u001b[1;33m)\u001b[0m\u001b[1;33m\u001b[0m\u001b[1;33m\u001b[0m\u001b[0m\n\u001b[1;32m---> 32\u001b[1;33m             \u001b[0moptimizer\u001b[0m\u001b[1;33m.\u001b[0m\u001b[0mstep\u001b[0m\u001b[1;33m(\u001b[0m\u001b[1;33m)\u001b[0m\u001b[1;33m\u001b[0m\u001b[1;33m\u001b[0m\u001b[0m\n\u001b[0m\u001b[0;32m     33\u001b[0m \u001b[1;33m\u001b[0m\u001b[0m\n\u001b[0;32m     34\u001b[0m             \u001b[0mprint\u001b[0m\u001b[1;33m(\u001b[0m\u001b[1;34m'batch %d / %d | loss: %.9f'\u001b[0m\u001b[1;33m%\u001b[0m\u001b[1;33m(\u001b[0m\u001b[0mb\u001b[0m\u001b[1;33m,\u001b[0m \u001b[0mn_batches\u001b[0m\u001b[1;33m,\u001b[0m \u001b[0mloss\u001b[0m\u001b[1;33m)\u001b[0m\u001b[1;33m)\u001b[0m\u001b[1;33m\u001b[0m\u001b[1;33m\u001b[0m\u001b[0m\n",
      "\u001b[1;32m~\\anaconda3\\envs\\py37\\lib\\site-packages\\torch\\optim\\adam.py\u001b[0m in \u001b[0;36mstep\u001b[1;34m(self, closure)\u001b[0m\n\u001b[0;32m    105\u001b[0m                 \u001b[0mstep_size\u001b[0m \u001b[1;33m=\u001b[0m \u001b[0mgroup\u001b[0m\u001b[1;33m[\u001b[0m\u001b[1;34m'lr'\u001b[0m\u001b[1;33m]\u001b[0m \u001b[1;33m/\u001b[0m \u001b[0mbias_correction1\u001b[0m\u001b[1;33m\u001b[0m\u001b[1;33m\u001b[0m\u001b[0m\n\u001b[0;32m    106\u001b[0m \u001b[1;33m\u001b[0m\u001b[0m\n\u001b[1;32m--> 107\u001b[1;33m                 \u001b[0mp\u001b[0m\u001b[1;33m.\u001b[0m\u001b[0mdata\u001b[0m\u001b[1;33m.\u001b[0m\u001b[0maddcdiv_\u001b[0m\u001b[1;33m(\u001b[0m\u001b[1;33m-\u001b[0m\u001b[0mstep_size\u001b[0m\u001b[1;33m,\u001b[0m \u001b[0mexp_avg\u001b[0m\u001b[1;33m,\u001b[0m \u001b[0mdenom\u001b[0m\u001b[1;33m)\u001b[0m\u001b[1;33m\u001b[0m\u001b[1;33m\u001b[0m\u001b[0m\n\u001b[0m\u001b[0;32m    108\u001b[0m \u001b[1;33m\u001b[0m\u001b[0m\n\u001b[0;32m    109\u001b[0m         \u001b[1;32mreturn\u001b[0m \u001b[0mloss\u001b[0m\u001b[1;33m\u001b[0m\u001b[1;33m\u001b[0m\u001b[0m\n",
      "\u001b[1;31mKeyboardInterrupt\u001b[0m: "
     ]
    }
   ],
   "source": [
    "SAVE_PATH = data_root + '/resume'\n",
    "train(lil_mtrx, 32, 100, 0.01, SAVE_PATH)"
   ]
  },
  {
   "cell_type": "code",
   "execution_count": null,
   "metadata": {},
   "outputs": [],
   "source": []
  }
 ],
 "metadata": {
  "kernelspec": {
   "display_name": "Python 3",
   "language": "python",
   "name": "python3"
  },
  "language_info": {
   "codemirror_mode": {
    "name": "ipython",
    "version": 3
   },
   "file_extension": ".py",
   "mimetype": "text/x-python",
   "name": "python",
   "nbconvert_exporter": "python",
   "pygments_lexer": "ipython3",
   "version": "3.7.6"
  }
 },
 "nbformat": 4,
 "nbformat_minor": 4
}
